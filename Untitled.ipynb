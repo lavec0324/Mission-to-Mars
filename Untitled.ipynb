{
 "cells": [
  {
   "cell_type": "code",
   "execution_count": 2,
   "id": "f4f9d211",
   "metadata": {},
   "outputs": [
    {
     "data": {
      "text/plain": [
       "{'name': 'Tom Cruise'}"
      ]
     },
     "execution_count": 2,
     "metadata": {},
     "output_type": "execute_result"
    }
   ],
   "source": [
    "# Unlike lists, dictionaries store information in pairs\n",
    "# ---------------------------------------------------------------\n",
    "\n",
    "# A list of actors\n",
    "actors = [\"Tom Cruise\",\n",
    "          \"Angelina Jolie\",\n",
    "          \"Kristen Stewart\",\n",
    "          \"Denzel Washington\"]\n",
    "\n",
    "# A dictionary of an actor\n",
    "actor = {\"name\": \"Tom Cruise\"}\n",
    "actor"
   ]
  },
  {
   "cell_type": "code",
   "execution_count": null,
   "id": "8a8cecca",
   "metadata": {},
   "outputs": [],
   "source": [
    "# ---------------------------------------------------------------\n",
    "\n",
    "# A dictionary can contain multiple pairs of information\n",
    "actor_info = {\n",
    "    \"name\": \"Angelina Jolie\",\n",
    "    \"genre\": \"Action\",\n",
    "    \"nationality\": \"United States\"\n",
    "}\n",
    "\n",
    "# ---------------------------------------------------------------\n",
    "\n",
    "# A dictionary can contain multiple types of information\n",
    "another_actor = {\n",
    "    \"name\": \"Sylvester Stallone\",\n",
    "    \"age\": 62,\n",
    "    \"married\": True,\n",
    "    \"best movies\": [\n",
    "        \"Rocky\",\n",
    "        \"Rocky 2\",\n",
    "        \"Rocky 3\"]}\n",
    "print(f'{another_actor[\"name\"]} was in {another_actor[\"best movies\"][0]}')\n",
    "# ---------------------------------------------------------------\n",
    "\n",
    "# A dictionary can even contain another dictionary\n",
    "film = {\n",
    "    \"title\": \"Interstellar\",\n",
    "    \"revenues\": {\n",
    "        \"United States\": 360,\n",
    "        \"China\": 250,\n",
    "        \"United Kingdom\": 73\n",
    "    }\n",
    "}\n",
    "print(f'{film[\"title\"]} made {film[\"revenues\"][\"United States\"]}'\" in the US.\")\n",
    "# ---------------------------------------------------------------"
   ]
  }
 ],
 "metadata": {
  "kernelspec": {
   "display_name": "Python 3 (ipykernel)",
   "language": "python",
   "name": "python3"
  },
  "language_info": {
   "codemirror_mode": {
    "name": "ipython",
    "version": 3
   },
   "file_extension": ".py",
   "mimetype": "text/x-python",
   "name": "python",
   "nbconvert_exporter": "python",
   "pygments_lexer": "ipython3",
   "version": "3.9.7"
  }
 },
 "nbformat": 4,
 "nbformat_minor": 5
}
